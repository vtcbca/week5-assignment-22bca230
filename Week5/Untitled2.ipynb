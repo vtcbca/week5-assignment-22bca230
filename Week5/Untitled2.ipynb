{
 "cells": [
  {
   "cell_type": "code",
   "execution_count": 1,
   "id": "1c862a3b",
   "metadata": {},
   "outputs": [],
   "source": [
    "import csv"
   ]
  },
  {
   "cell_type": "code",
   "execution_count": 2,
   "id": "0494d5f3",
   "metadata": {},
   "outputs": [],
   "source": [
    "s=['sid','sname','city','contact']"
   ]
  },
  {
   "cell_type": "code",
   "execution_count": 3,
   "id": "66ef7520",
   "metadata": {},
   "outputs": [],
   "source": [
    "records=[[1,'milan','vankaner',7632590102],\n",
    "         [2,'veer','bardoli',9722955429],\n",
    "         [3,'zeel','surat',9026763218],\n",
    "         [4,'dhruv','bharuch',5656521478],\n",
    "         [5,'sujal','surat',693006761]]\n",
    "p=[]"
   ]
  },
  {
   "cell_type": "code",
   "execution_count": 4,
   "id": "39249b07",
   "metadata": {},
   "outputs": [
    {
     "name": "stdout",
     "output_type": "stream",
     "text": [
      "enter student id:6\n",
      "enter student name:farhan\n",
      "enter student city:surat\n",
      "enter student contact number:9568741230\n",
      "enter student id:7\n",
      "enter student name:ujefa\n",
      "enter student city:songadh\n",
      "enter student contact number:8745963210\n",
      "enter student id:8\n",
      "enter student name:vikas\n",
      "enter student city:surat\n",
      "enter student contact number:3210564789\n",
      "enter student id:9\n",
      "enter student name:yash\n",
      "enter student city:bardoli\n",
      "enter student contact number:6589741230\n",
      "enter student id:10\n",
      "enter student name:rudhr\n",
      "enter student city:surat\n",
      "enter student contact number:4125369870\n"
     ]
    }
   ],
   "source": [
    "for i in range(5):\n",
    "    sid=int(input(\"enter student id:\"))\n",
    "    sname=input(\"enter student name:\")\n",
    "    city=input(\"enter student city:\")\n",
    "    contact=int(input(\"enter student contact number:\"))\n",
    "    l=[sid,sname,city,contact]\n",
    "    p.append(l)"
   ]
  },
  {
   "cell_type": "code",
   "execution_count": 5,
   "id": "09a9d474",
   "metadata": {},
   "outputs": [],
   "source": [
    "with open('C:\\sqlite3\\student.csv','w',newline='') as f:\n",
    "    file=csv.writer(f)\n",
    "    file.writerow(s)\n",
    "    file.writerows(records)\n",
    "    file.writerows(p)"
   ]
  },
  {
   "cell_type": "code",
   "execution_count": 6,
   "id": "022c7492",
   "metadata": {},
   "outputs": [
    {
     "name": "stdout",
     "output_type": "stream",
     "text": [
      "['sid', 'sname', 'city', 'contact']\n",
      "['1', 'milan', 'vankaner', '7632590102']\n",
      "['2', 'veer', 'bardoli', '9722955429']\n",
      "['3', 'zeel', 'surat', '9026763218']\n",
      "['4', 'dhruv', 'bharuch', '5656521478']\n",
      "['5', 'sujal', 'surat', '693006761']\n",
      "['6', 'farhan', 'surat', '9568741230']\n",
      "['7', 'ujefa', 'songadh', '8745963210']\n",
      "['8', 'vikas', 'surat', '3210564789']\n",
      "['9', 'yash', 'bardoli', '6589741230']\n",
      "['10', 'rudhr', 'surat', '4125369870']\n"
     ]
    }
   ],
   "source": [
    "with open('C:\\sqlite3\\student.csv','r',newline='') as read:\n",
    "    all_record=csv.reader(read)\n",
    "    for records in all_record:\n",
    "        print(records)"
   ]
  },
  {
   "cell_type": "code",
   "execution_count": null,
   "id": "9e150005",
   "metadata": {},
   "outputs": [],
   "source": []
  }
 ],
 "metadata": {
  "kernelspec": {
   "display_name": "Python 3 (ipykernel)",
   "language": "python",
   "name": "python3"
  },
  "language_info": {
   "codemirror_mode": {
    "name": "ipython",
    "version": 3
   },
   "file_extension": ".py",
   "mimetype": "text/x-python",
   "name": "python",
   "nbconvert_exporter": "python",
   "pygments_lexer": "ipython3",
   "version": "3.9.6"
  }
 },
 "nbformat": 4,
 "nbformat_minor": 5
}
